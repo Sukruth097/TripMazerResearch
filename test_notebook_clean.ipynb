{
 "cells": [
  {
   "cell_type": "markdown",
   "id": "78a5e563",
   "metadata": {},
   "source": [
    "# TripMazer Research - Testing Notebook\n",
    "\n",
    "This notebook demonstrates the usage of TripMazer's optimization tools.\n",
    "\n",
    "## Setup\n",
    "\n",
    "Make sure to set your `PERPLEXITY_API_KEY` environment variable before running this notebook."
   ]
  },
  {
   "cell_type": "code",
   "execution_count": null,
   "id": "b6b90c18",
   "metadata": {},
   "outputs": [],
   "source": [
    "import os\n",
    "import sys\n",
    "\n",
    "# Add the src directory to Python path\n",
    "sys.path.append(os.path.join(os.path.dirname('__file__'), '..', 'src'))\n",
    "\n",
    "from src.services.perplexity_service import PerplexityService"
   ]
  },
  {
   "cell_type": "code",
   "execution_count": null,
   "id": "b74b3a9e",
   "metadata": {},
   "outputs": [],
   "source": [
    "# Initialize Perplexity service with environment variable\n",
    "api_key = os.getenv('PERPLEXITY_API_KEY')\n",
    "if not api_key:\n",
    "    print(\"Please set PERPLEXITY_API_KEY environment variable\")\n",
    "else:\n",
    "    service = PerplexityService(api_key=api_key)\n",
    "    print(\"✅ Perplexity service initialized successfully!\")"
   ]
  },
  {
   "cell_type": "code",
   "execution_count": null,
   "id": "457e1bef",
   "metadata": {},
   "outputs": [],
   "source": [
    "# Test the service connection\n",
    "if 'service' in locals():\n",
    "    try:\n",
    "        result = service.search(\n",
    "            query=\"Test connection\",\n",
    "            system_prompt=\"Respond with 'Connection successful!'\"\n",
    "        )\n",
    "        print(\"Service test result:\", result.get('content', 'No response'))\n",
    "    except Exception as e:\n",
    "        print(f\"Service test failed: {e}\")\n",
    "else:\n",
    "    print(\"Service not initialized - check your API key\")"
   ]
  },
  {
   "cell_type": "markdown",
   "id": "5b068c24",
   "metadata": {},
   "source": [
    "## Test Individual Tools\n",
    "\n",
    "Run individual optimization tools to test functionality."
   ]
  },
  {
   "cell_type": "code",
   "execution_count": null,
   "id": "a74e640a",
   "metadata": {},
   "outputs": [],
   "source": [
    "# Test accommodation search\n",
    "from src.tools.optimization import search_accommodations\n",
    "\n",
    "accommodation_result = search_accommodations.invoke({\n",
    "    \"query\": \"Find budget hotels in Tokyo for 2 people, budget $100 per night\"\n",
    "})\n",
    "\n",
    "print(\"Accommodation Results:\")\n",
    "print(accommodation_result)"
   ]
  },
  {
   "cell_type": "code",
   "execution_count": null,
   "id": "7abaeb80",
   "metadata": {},
   "outputs": [],
   "source": [
    "# Test itinerary planning\n",
    "from src.tools.optimization import plan_itinerary\n",
    "\n",
    "itinerary_result = plan_itinerary.invoke({\n",
    "    \"query\": \"Plan 3-day Tokyo itinerary focusing on temples and traditional experiences\"\n",
    "})\n",
    "\n",
    "print(\"Itinerary Results:\")\n",
    "print(itinerary_result)"
   ]
  }
 ],
 "metadata": {
  "language_info": {
   "name": "python"
  }
 },
 "nbformat": 4,
 "nbformat_minor": 5
}
